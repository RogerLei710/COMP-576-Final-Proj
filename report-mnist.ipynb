{
 "cells": [
  {
   "cell_type": "markdown",
   "metadata": {},
   "source": [
    "# ELEC/COMP 576: Introduction to Deep Learning\n",
    "## Final project\n",
    "\n",
    "## author: \n",
    "## netid: "
   ]
  },
  {
   "cell_type": "markdown",
   "metadata": {},
   "source": [
    "## Part 0 Create target model"
   ]
  },
  {
   "cell_type": "code",
   "execution_count": 1,
   "metadata": {
    "scrolled": false
   },
   "outputs": [
    {
     "name": "stdout",
     "output_type": "stream",
     "text": [
      "Epoch 1/20\n",
      "235/235 [==============================] - 5s 22ms/step - loss: 0.8547 - accuracy: 0.7249 - val_loss: 0.2320 - val_accuracy: 0.9332\n",
      "Epoch 2/20\n",
      "235/235 [==============================] - 5s 22ms/step - loss: 0.3136 - accuracy: 0.9069 - val_loss: 0.1553 - val_accuracy: 0.9555\n",
      "Epoch 3/20\n",
      "235/235 [==============================] - 5s 22ms/step - loss: 0.2293 - accuracy: 0.9324 - val_loss: 0.1163 - val_accuracy: 0.9649\n",
      "Epoch 4/20\n",
      "235/235 [==============================] - 5s 22ms/step - loss: 0.1891 - accuracy: 0.9441 - val_loss: 0.0956 - val_accuracy: 0.9711\n",
      "Epoch 5/20\n",
      "235/235 [==============================] - 5s 22ms/step - loss: 0.1638 - accuracy: 0.9524 - val_loss: 0.0846 - val_accuracy: 0.9737\n",
      "Epoch 6/20\n",
      "235/235 [==============================] - 6s 24ms/step - loss: 0.1440 - accuracy: 0.9582 - val_loss: 0.0779 - val_accuracy: 0.9762\n",
      "Epoch 7/20\n",
      "235/235 [==============================] - 6s 24ms/step - loss: 0.1287 - accuracy: 0.9619 - val_loss: 0.0747 - val_accuracy: 0.9764\n",
      "Epoch 8/20\n",
      "235/235 [==============================] - 6s 25ms/step - loss: 0.1206 - accuracy: 0.9646 - val_loss: 0.0719 - val_accuracy: 0.9758\n",
      "Epoch 9/20\n",
      "235/235 [==============================] - 6s 24ms/step - loss: 0.1119 - accuracy: 0.9672 - val_loss: 0.0682 - val_accuracy: 0.9794\n",
      "Epoch 10/20\n",
      "235/235 [==============================] - 6s 24ms/step - loss: 0.1036 - accuracy: 0.9692 - val_loss: 0.0643 - val_accuracy: 0.9802\n",
      "Epoch 11/20\n",
      "235/235 [==============================] - 6s 25ms/step - loss: 0.0977 - accuracy: 0.9705 - val_loss: 0.0619 - val_accuracy: 0.9794\n",
      "Epoch 12/20\n",
      "235/235 [==============================] - 7s 29ms/step - loss: 0.0918 - accuracy: 0.9724 - val_loss: 0.0558 - val_accuracy: 0.9815\n",
      "Epoch 13/20\n",
      "235/235 [==============================] - 8s 35ms/step - loss: 0.0875 - accuracy: 0.9743 - val_loss: 0.0633 - val_accuracy: 0.9812\n",
      "Epoch 14/20\n",
      "235/235 [==============================] - 10s 41ms/step - loss: 0.0828 - accuracy: 0.9751 - val_loss: 0.0524 - val_accuracy: 0.9838\n",
      "Epoch 15/20\n",
      "235/235 [==============================] - 6s 27ms/step - loss: 0.0749 - accuracy: 0.9779 - val_loss: 0.0537 - val_accuracy: 0.9822\n",
      "Epoch 16/20\n",
      "235/235 [==============================] - 7s 32ms/step - loss: 0.0750 - accuracy: 0.9777 - val_loss: 0.0504 - val_accuracy: 0.9842\n",
      "Epoch 17/20\n",
      "235/235 [==============================] - 7s 31ms/step - loss: 0.0716 - accuracy: 0.9784 - val_loss: 0.0505 - val_accuracy: 0.9853\n",
      "Epoch 18/20\n",
      "235/235 [==============================] - 7s 30ms/step - loss: 0.0698 - accuracy: 0.9787 - val_loss: 0.0491 - val_accuracy: 0.9833\n",
      "Epoch 19/20\n",
      "235/235 [==============================] - 7s 30ms/step - loss: 0.0635 - accuracy: 0.9808 - val_loss: 0.0470 - val_accuracy: 0.9853\n",
      "Epoch 20/20\n",
      "235/235 [==============================] - 7s 29ms/step - loss: 0.0610 - accuracy: 0.9817 - val_loss: 0.0448 - val_accuracy: 0.9870\n",
      "Base accuracy on regular images: [0.04482671990990639, 0.9869999885559082]\n",
      "WARNING:tensorflow:From /usr/local/lib/python3.6/dist-packages/tensorflow/python/training/tracking/tracking.py:111: Model.state_updates (from tensorflow.python.keras.engine.training) is deprecated and will be removed in a future version.\n",
      "Instructions for updating:\n",
      "This property should not be used in TensorFlow 2.0, as updates are applied automatically.\n",
      "WARNING:tensorflow:From /usr/local/lib/python3.6/dist-packages/tensorflow/python/training/tracking/tracking.py:111: Layer.updates (from tensorflow.python.keras.engine.base_layer) is deprecated and will be removed in a future version.\n",
      "Instructions for updating:\n",
      "This property should not be used in TensorFlow 2.0, as updates are applied automatically.\n",
      "INFO:tensorflow:Assets written to: saved_models/mnist_target_model/assets\n"
     ]
    }
   ],
   "source": [
    "from mnist_target_model import run_experiment\n",
    "\n",
    "# Create target CNN model\n",
    "run_experiment(save_model=True)"
   ]
  },
  {
   "cell_type": "markdown",
   "metadata": {},
   "source": [
    "## Part 1 Evaluation on black box, using Jacobian heuristic"
   ]
  },
  {
   "cell_type": "code",
   "execution_count": 2,
   "metadata": {
    "scrolled": false
   },
   "outputs": [
    {
     "name": "stdout",
     "output_type": "stream",
     "text": [
      "(Test) Summarize each class' distribution {0: 934, 1: 1077, 2: 981, 3: 955, 4: 940, 5: 848, 6: 907, 7: 982, 8: 911, 9: 965}\n",
      "(Train) Summarize each class' distribution {0: 46, 1: 58, 2: 51, 3: 55, 4: 42, 5: 44, 6: 51, 7: 46, 8: 63, 9: 44}\n",
      "Train substitute network round 0 / 4 ...\n",
      "Epoch 1/10\n",
      "2/2 [==============================] - 0s 199ms/step - loss: 2.3016 - accuracy: 0.1060 - val_loss: 2.2993 - val_accuracy: 0.1423\n",
      "Epoch 2/10\n",
      "2/2 [==============================] - 0s 120ms/step - loss: 2.2981 - accuracy: 0.1740 - val_loss: 2.2968 - val_accuracy: 0.2047\n",
      "Epoch 3/10\n",
      "2/2 [==============================] - 0s 121ms/step - loss: 2.2950 - accuracy: 0.2340 - val_loss: 2.2937 - val_accuracy: 0.2566\n",
      "Epoch 4/10\n",
      "2/2 [==============================] - 0s 114ms/step - loss: 2.2912 - accuracy: 0.2980 - val_loss: 2.2901 - val_accuracy: 0.2758\n",
      "Epoch 5/10\n",
      "2/2 [==============================] - 0s 122ms/step - loss: 2.2870 - accuracy: 0.3020 - val_loss: 2.2860 - val_accuracy: 0.2486\n",
      "Epoch 6/10\n",
      "2/2 [==============================] - 0s 110ms/step - loss: 2.2818 - accuracy: 0.2900 - val_loss: 2.2807 - val_accuracy: 0.2329\n",
      "Epoch 7/10\n",
      "2/2 [==============================] - 0s 111ms/step - loss: 2.2754 - accuracy: 0.2800 - val_loss: 2.2741 - val_accuracy: 0.2319\n",
      "Epoch 8/10\n",
      "2/2 [==============================] - 0s 115ms/step - loss: 2.2677 - accuracy: 0.2580 - val_loss: 2.2659 - val_accuracy: 0.2114\n",
      "Epoch 9/10\n",
      "2/2 [==============================] - 0s 124ms/step - loss: 2.2584 - accuracy: 0.2520 - val_loss: 2.2557 - val_accuracy: 0.2156\n",
      "Epoch 10/10\n",
      "2/2 [==============================] - 0s 125ms/step - loss: 2.2472 - accuracy: 0.2500 - val_loss: 2.2433 - val_accuracy: 0.2066\n",
      "Train substitute network round 1 / 4 ...\n",
      "Epoch 1/10\n",
      "4/4 [==============================] - 0s 79ms/step - loss: 2.2255 - accuracy: 0.2450 - val_loss: 2.2113 - val_accuracy: 0.2042\n",
      "Epoch 2/10\n",
      "4/4 [==============================] - 0s 66ms/step - loss: 2.1870 - accuracy: 0.2490 - val_loss: 2.1652 - val_accuracy: 0.2305\n",
      "Epoch 3/10\n",
      "4/4 [==============================] - 0s 72ms/step - loss: 2.1349 - accuracy: 0.2490 - val_loss: 2.1011 - val_accuracy: 0.2488\n",
      "Epoch 4/10\n",
      "4/4 [==============================] - 0s 67ms/step - loss: 2.0620 - accuracy: 0.2830 - val_loss: 2.0173 - val_accuracy: 0.2999\n",
      "Epoch 5/10\n",
      "4/4 [==============================] - 0s 68ms/step - loss: 1.9731 - accuracy: 0.3380 - val_loss: 1.9150 - val_accuracy: 0.3305\n",
      "Epoch 6/10\n",
      "4/4 [==============================] - 0s 70ms/step - loss: 1.8654 - accuracy: 0.3820 - val_loss: 1.7994 - val_accuracy: 0.4303\n",
      "Epoch 7/10\n",
      "4/4 [==============================] - 0s 68ms/step - loss: 1.7504 - accuracy: 0.4630 - val_loss: 1.6772 - val_accuracy: 0.4818\n",
      "Epoch 8/10\n",
      "4/4 [==============================] - 0s 70ms/step - loss: 1.6207 - accuracy: 0.5160 - val_loss: 1.5440 - val_accuracy: 0.5511\n",
      "Epoch 9/10\n",
      "4/4 [==============================] - 0s 69ms/step - loss: 1.4926 - accuracy: 0.5600 - val_loss: 1.4150 - val_accuracy: 0.5881\n",
      "Epoch 10/10\n",
      "4/4 [==============================] - 0s 71ms/step - loss: 1.3706 - accuracy: 0.5950 - val_loss: 1.2882 - val_accuracy: 0.6368\n",
      "Train substitute network round 2 / 4 ...\n",
      "Epoch 1/10\n",
      "8/8 [==============================] - 0s 48ms/step - loss: 1.1975 - accuracy: 0.6540 - val_loss: 1.0847 - val_accuracy: 0.6607\n",
      "Epoch 2/10\n",
      "8/8 [==============================] - 0s 46ms/step - loss: 1.0356 - accuracy: 0.6660 - val_loss: 0.9791 - val_accuracy: 0.6912\n",
      "Epoch 3/10\n",
      "8/8 [==============================] - 0s 42ms/step - loss: 0.9432 - accuracy: 0.6970 - val_loss: 0.9322 - val_accuracy: 0.7000\n",
      "Epoch 4/10\n",
      "8/8 [==============================] - 0s 44ms/step - loss: 0.8824 - accuracy: 0.7140 - val_loss: 0.8390 - val_accuracy: 0.7320\n",
      "Epoch 5/10\n",
      "8/8 [==============================] - 0s 40ms/step - loss: 0.8330 - accuracy: 0.7375 - val_loss: 0.8192 - val_accuracy: 0.7292\n",
      "Epoch 6/10\n",
      "8/8 [==============================] - 0s 42ms/step - loss: 0.8021 - accuracy: 0.7455 - val_loss: 0.7911 - val_accuracy: 0.7449\n",
      "Epoch 7/10\n",
      "8/8 [==============================] - 0s 45ms/step - loss: 0.7637 - accuracy: 0.7530 - val_loss: 0.7569 - val_accuracy: 0.7546\n",
      "Epoch 8/10\n",
      "8/8 [==============================] - 0s 43ms/step - loss: 0.7189 - accuracy: 0.7650 - val_loss: 0.7376 - val_accuracy: 0.7655\n",
      "Epoch 9/10\n",
      "8/8 [==============================] - 0s 43ms/step - loss: 0.7003 - accuracy: 0.7705 - val_loss: 0.7134 - val_accuracy: 0.7684\n",
      "Epoch 10/10\n",
      "8/8 [==============================] - 0s 43ms/step - loss: 0.6770 - accuracy: 0.7695 - val_loss: 0.7027 - val_accuracy: 0.7700\n",
      "Train substitute network round 3 / 4 ...\n",
      "Epoch 1/10\n",
      "16/16 [==============================] - 0s 30ms/step - loss: 0.6301 - accuracy: 0.7853 - val_loss: 0.6716 - val_accuracy: 0.7833\n",
      "Epoch 2/10\n",
      "16/16 [==============================] - 0s 30ms/step - loss: 0.6000 - accuracy: 0.7875 - val_loss: 0.6484 - val_accuracy: 0.7813\n",
      "Epoch 3/10\n",
      "16/16 [==============================] - 0s 28ms/step - loss: 0.5605 - accuracy: 0.7990 - val_loss: 0.6198 - val_accuracy: 0.8007\n",
      "Epoch 4/10\n",
      "16/16 [==============================] - 0s 30ms/step - loss: 0.5236 - accuracy: 0.8060 - val_loss: 0.6055 - val_accuracy: 0.8018\n",
      "Epoch 5/10\n",
      "16/16 [==============================] - 0s 27ms/step - loss: 0.5018 - accuracy: 0.8170 - val_loss: 0.6008 - val_accuracy: 0.8043\n",
      "Epoch 6/10\n",
      "16/16 [==============================] - 0s 27ms/step - loss: 0.4639 - accuracy: 0.8320 - val_loss: 0.5817 - val_accuracy: 0.8164\n",
      "Epoch 7/10\n",
      "16/16 [==============================] - 0s 27ms/step - loss: 0.4382 - accuracy: 0.8380 - val_loss: 0.5771 - val_accuracy: 0.8132\n",
      "Epoch 8/10\n",
      "16/16 [==============================] - 0s 27ms/step - loss: 0.4158 - accuracy: 0.8500 - val_loss: 0.5841 - val_accuracy: 0.8163\n",
      "Epoch 9/10\n",
      "16/16 [==============================] - 0s 27ms/step - loss: 0.4004 - accuracy: 0.8583 - val_loss: 0.5501 - val_accuracy: 0.8203\n",
      "Epoch 10/10\n",
      "16/16 [==============================] - 0s 27ms/step - loss: 0.3705 - accuracy: 0.8655 - val_loss: 0.5568 - val_accuracy: 0.8306\n",
      "Train substitute network round 4 / 4 ...\n",
      "Epoch 1/10\n",
      "32/32 [==============================] - 1s 22ms/step - loss: 0.3327 - accuracy: 0.8801 - val_loss: 0.5471 - val_accuracy: 0.8294\n",
      "Epoch 2/10\n",
      "32/32 [==============================] - 1s 21ms/step - loss: 0.2957 - accuracy: 0.8974 - val_loss: 0.5360 - val_accuracy: 0.8438\n",
      "Epoch 3/10\n",
      "32/32 [==============================] - 1s 21ms/step - loss: 0.2522 - accuracy: 0.9139 - val_loss: 0.5182 - val_accuracy: 0.8469\n",
      "Epoch 4/10\n",
      "32/32 [==============================] - 1s 21ms/step - loss: 0.2219 - accuracy: 0.9316 - val_loss: 0.5450 - val_accuracy: 0.8478\n",
      "Epoch 5/10\n",
      "32/32 [==============================] - 1s 22ms/step - loss: 0.1957 - accuracy: 0.9426 - val_loss: 0.5336 - val_accuracy: 0.8527\n",
      "Epoch 6/10\n",
      "32/32 [==============================] - 1s 21ms/step - loss: 0.1729 - accuracy: 0.9515 - val_loss: 0.5696 - val_accuracy: 0.8529\n",
      "Epoch 7/10\n",
      "32/32 [==============================] - 1s 20ms/step - loss: 0.1530 - accuracy: 0.9579 - val_loss: 0.5731 - val_accuracy: 0.8545\n",
      "Epoch 8/10\n",
      "32/32 [==============================] - 1s 21ms/step - loss: 0.1436 - accuracy: 0.9603 - val_loss: 0.5637 - val_accuracy: 0.8543\n",
      "Epoch 9/10\n",
      "32/32 [==============================] - 1s 20ms/step - loss: 0.1179 - accuracy: 0.9711 - val_loss: 0.5942 - val_accuracy: 0.8499\n",
      "Epoch 10/10\n",
      "32/32 [==============================] - 1s 19ms/step - loss: 0.1083 - accuracy: 0.9737 - val_loss: 0.6037 - val_accuracy: 0.8540\n",
      "(substitute model) Base accuracy on regular images: [0.6036598086357117, 0.8539999723434448]\n",
      "Model saved under saved_models/mnist_substitute_model/jacobian-alpha\n",
      "INFO:tensorflow:Assets written to: saved_models/mnist_substitute_model/jacobian-alpha/assets\n"
     ]
    }
   ],
   "source": [
    "from mnist_substitue_model import run_experiment\n",
    "\n",
    "# Create experiment model using jacobian-alpha method; save the model\n",
    "run_experiment(aug_func='jacobian-alpha', save_model=True)"
   ]
  },
  {
   "cell_type": "code",
   "execution_count": 3,
   "metadata": {
    "scrolled": true
   },
   "outputs": [
    {
     "name": "stdout",
     "output_type": "stream",
     "text": [
      "Get substitute model from saved_models/mnist_substitute_model/jacobian-alpha\n",
      "Accuracy of Substitute model on regular images: [0.5868023633956909, 0.8583999872207642]\n",
      "Accuracy of Target model on regular images: [0.04482671990990639, 0.9869999885559082]\n",
      "Accuracy of Substitute model on adversarial images: [25.041135787963867, 0.004000000189989805]\n",
      "Accuracy of Target model on adversarial images: [1.5319006443023682, 0.5479999780654907]\n"
     ]
    },
    {
     "data": {
      "image/png": "[encoded data removed]",
      "text/plain": [
       "<Figure size 432x288 with 1 Axes>"
      ]
     },
     "metadata": {
      "needs_background": "light"
     },
     "output_type": "display_data"
    },
    {
     "name": "stdout",
     "output_type": "stream",
     "text": [
      "The original image is classified as seven\n",
      "The adversarial image is classified as two\n"
     ]
    },
    {
     "data": {
      "image/png": "[encoded data removed]",
      "text/plain": [
       "<Figure size 432x288 with 1 Axes>"
      ]
     },
     "metadata": {
      "needs_background": "light"
     },
     "output_type": "display_data"
    },
    {
     "name": "stdout",
     "output_type": "stream",
     "text": [
      "The original image is classified as two\n",
      "The adversarial image is classified as five\n"
     ]
    },
    {
     "data": {
      "image/png": "[encoded data removed]",
      "text/plain": [
       "<Figure size 432x288 with 1 Axes>"
      ]
     },
     "metadata": {
      "needs_background": "light"
     },
     "output_type": "display_data"
    },
    {
     "name": "stdout",
     "output_type": "stream",
     "text": [
      "The original image is classified as one\n",
      "The adversarial image is classified as five\n"
     ]
    },
    {
     "data": {
      "image/png": "[encoded data removed]",
      "text/plain": [
       "<Figure size 432x288 with 1 Axes>"
      ]
     },
     "metadata": {
      "needs_background": "light"
     },
     "output_type": "display_data"
    },
    {
     "name": "stdout",
     "output_type": "stream",
     "text": [
      "The original image is classified as zero\n",
      "The adversarial image is classified as five\n"
     ]
    },
    {
     "data": {
      "image/png": "[encoded data removed]",
      "text/plain": [
       "<Figure size 432x288 with 1 Axes>"
      ]
     },
     "metadata": {
      "needs_background": "light"
     },
     "output_type": "display_data"
    },
    {
     "name": "stdout",
     "output_type": "stream",
     "text": [
      "The original image is classified as four\n",
      "The adversarial image is classified as seven\n"
     ]
    },
    {
     "data": {
      "image/png": "[encoded data removed]",
      "text/plain": [
       "<Figure size 432x288 with 1 Axes>"
      ]
     },
     "metadata": {
      "needs_background": "light"
     },
     "output_type": "display_data"
    },
    {
     "name": "stdout",
     "output_type": "stream",
     "text": [
      "The original image is classified as one\n",
      "The adversarial image is classified as seven\n"
     ]
    },
    {
     "data": {
      "image/png": "[encoded data removed]",
      "text/plain": [
       "<Figure size 432x288 with 1 Axes>"
      ]
     },
     "metadata": {
      "needs_background": "light"
     },
     "output_type": "display_data"
    },
    {
     "name": "stdout",
     "output_type": "stream",
     "text": [
      "The original image is classified as eight\n",
      "The adversarial image is classified as five\n"
     ]
    },
    {
     "data": {
      "image/png": "[encoded data removed]",
      "text/plain": [
       "<Figure size 432x288 with 1 Axes>"
      ]
     },
     "metadata": {
      "needs_background": "light"
     },
     "output_type": "display_data"
    },
    {
     "name": "stdout",
     "output_type": "stream",
     "text": [
      "The original image is classified as nine\n",
      "The adversarial image is classified as two\n"
     ]
    },
    {
     "data": {
      "image/png": "[encoded data removed]",
      "text/plain": [
       "<Figure size 432x288 with 1 Axes>"
      ]
     },
     "metadata": {
      "needs_background": "light"
     },
     "output_type": "display_data"
    },
    {
     "name": "stdout",
     "output_type": "stream",
     "text": [
      "The original image is classified as nine\n",
      "The adversarial image is classified as seven\n"
     ]
    },
    {
     "data": {
      "image/png": "[encoded data removed]",
      "text/plain": [
       "<Figure size 432x288 with 1 Axes>"
      ]
     },
     "metadata": {
      "needs_background": "light"
     },
     "output_type": "display_data"
    },
    {
     "name": "stdout",
     "output_type": "stream",
     "text": [
      "The original image is classified as zero\n",
      "The adversarial image is classified as five\n"
     ]
    }
   ],
   "source": [
    "from mnist_attack import run_experiment\n",
    "\n",
    "# Run experiment using jacobian-alpha heuristic\n",
    "run_experiment(substitute_model_loc='saved_models/mnist_substitute_model/jacobian-alpha', plot=True)"
   ]
  },
  {
   "cell_type": "markdown",
   "metadata": {},
   "source": [
    "## Part 2 Evaluation on black box, using jacobian-beta heuristic"
   ]
  },
  {
   "cell_type": "code",
   "execution_count": 11,
   "metadata": {
    "scrolled": true
   },
   "outputs": [
    {
     "name": "stdout",
     "output_type": "stream",
     "text": [
      "Train substitute network round 0 / 4 ...\n",
      "Epoch 1/10\n",
      "2/2 [==============================] - 0s 183ms/step - loss: 2.3015 - accuracy: 0.0920 - val_loss: 2.3002 - val_accuracy: 0.1088\n",
      "Epoch 2/10\n",
      "2/2 [==============================] - 0s 121ms/step - loss: 2.2991 - accuracy: 0.1160 - val_loss: 2.2983 - val_accuracy: 0.1198\n",
      "Epoch 3/10\n",
      "2/2 [==============================] - 0s 115ms/step - loss: 2.2964 - accuracy: 0.1280 - val_loss: 2.2959 - val_accuracy: 0.1188\n",
      "Epoch 4/10\n",
      "2/2 [==============================] - 0s 108ms/step - loss: 2.2932 - accuracy: 0.1440 - val_loss: 2.2929 - val_accuracy: 0.1408\n",
      "Epoch 5/10\n",
      "2/2 [==============================] - 0s 93ms/step - loss: 2.2892 - accuracy: 0.1660 - val_loss: 2.2890 - val_accuracy: 0.1362\n",
      "Epoch 6/10\n",
      "2/2 [==============================] - 0s 114ms/step - loss: 2.2846 - accuracy: 0.1540 - val_loss: 2.2844 - val_accuracy: 0.1301\n",
      "Epoch 7/10\n",
      "2/2 [==============================] - 0s 110ms/step - loss: 2.2784 - accuracy: 0.1540 - val_loss: 2.2784 - val_accuracy: 0.1199\n",
      "Epoch 8/10\n",
      "2/2 [==============================] - 0s 104ms/step - loss: 2.2713 - accuracy: 0.1480 - val_loss: 2.2711 - val_accuracy: 0.1200\n",
      "Epoch 9/10\n",
      "2/2 [==============================] - 0s 104ms/step - loss: 2.2624 - accuracy: 0.1480 - val_loss: 2.2619 - val_accuracy: 0.1276\n",
      "Epoch 10/10\n",
      "2/2 [==============================] - 0s 110ms/step - loss: 2.2519 - accuracy: 0.1600 - val_loss: 2.2506 - val_accuracy: 0.1351\n",
      "WARNING:tensorflow:11 out of the last 11 calls to <function pfor.<locals>.f at 0x7f1f6dcc4d08> triggered tf.function retracing. Tracing is expensive and the excessive number of tracings could be due to (1) creating @tf.function repeatedly in a loop, (2) passing tensors with different shapes, (3) passing Python objects instead of tensors. For (1), please define your @tf.function outside of the loop. For (2), @tf.function has experimental_relax_shapes=True option that relaxes argument shapes that can avoid unnecessary retracing. For (3), please refer to https://www.tensorflow.org/tutorials/customization/performance#python_or_tensor_args and https://www.tensorflow.org/api_docs/python/tf/function for  more details.\n",
      "Train substitute network round 1 / 4 ...\n",
      "Epoch 1/10\n",
      "4/4 [==============================] - 0s 74ms/step - loss: 2.2298 - accuracy: 0.1830 - val_loss: 2.2194 - val_accuracy: 0.1686\n",
      "Epoch 2/10\n",
      "4/4 [==============================] - 0s 67ms/step - loss: 2.1902 - accuracy: 0.1970 - val_loss: 2.1724 - val_accuracy: 0.1929\n",
      "Epoch 3/10\n",
      "4/4 [==============================] - 0s 63ms/step - loss: 2.1352 - accuracy: 0.2510 - val_loss: 2.1055 - val_accuracy: 0.2735\n",
      "Epoch 4/10\n",
      "4/4 [==============================] - 0s 59ms/step - loss: 2.0629 - accuracy: 0.3170 - val_loss: 2.0181 - val_accuracy: 0.3357\n",
      "Epoch 5/10\n",
      "4/4 [==============================] - 0s 61ms/step - loss: 1.9686 - accuracy: 0.3890 - val_loss: 1.9099 - val_accuracy: 0.4058\n",
      "Epoch 6/10\n",
      "4/4 [==============================] - 0s 61ms/step - loss: 1.8611 - accuracy: 0.4540 - val_loss: 1.7861 - val_accuracy: 0.4569\n",
      "Epoch 7/10\n",
      "4/4 [==============================] - 0s 64ms/step - loss: 1.7367 - accuracy: 0.4810 - val_loss: 1.6668 - val_accuracy: 0.4734\n",
      "Epoch 8/10\n",
      "4/4 [==============================] - 0s 60ms/step - loss: 1.6044 - accuracy: 0.5040 - val_loss: 1.5095 - val_accuracy: 0.5357\n",
      "Epoch 9/10\n",
      "4/4 [==============================] - 0s 59ms/step - loss: 1.4669 - accuracy: 0.5380 - val_loss: 1.3798 - val_accuracy: 0.5662\n",
      "Epoch 10/10\n",
      "4/4 [==============================] - 0s 60ms/step - loss: 1.3344 - accuracy: 0.5760 - val_loss: 1.2472 - val_accuracy: 0.6028\n",
      "WARNING:tensorflow:11 out of the last 11 calls to <function pfor.<locals>.f at 0x7f1f6dd7e400> triggered tf.function retracing. Tracing is expensive and the excessive number of tracings could be due to (1) creating @tf.function repeatedly in a loop, (2) passing tensors with different shapes, (3) passing Python objects instead of tensors. For (1), please define your @tf.function outside of the loop. For (2), @tf.function has experimental_relax_shapes=True option that relaxes argument shapes that can avoid unnecessary retracing. For (3), please refer to https://www.tensorflow.org/tutorials/customization/performance#python_or_tensor_args and https://www.tensorflow.org/api_docs/python/tf/function for  more details.\n",
      "Train substitute network round 2 / 4 ...\n",
      "Epoch 1/10\n",
      "8/8 [==============================] - 0s 41ms/step - loss: 1.1449 - accuracy: 0.6305 - val_loss: 1.0684 - val_accuracy: 0.6464\n",
      "Epoch 2/10\n",
      "8/8 [==============================] - 0s 36ms/step - loss: 0.9870 - accuracy: 0.6700 - val_loss: 0.9402 - val_accuracy: 0.6923\n",
      "Epoch 3/10\n",
      "8/8 [==============================] - 0s 35ms/step - loss: 0.8891 - accuracy: 0.7125 - val_loss: 0.8610 - val_accuracy: 0.7169\n",
      "Epoch 4/10\n",
      "8/8 [==============================] - 0s 36ms/step - loss: 0.8121 - accuracy: 0.7225 - val_loss: 0.8175 - val_accuracy: 0.7264\n",
      "Epoch 5/10\n",
      "8/8 [==============================] - 0s 36ms/step - loss: 0.7671 - accuracy: 0.7395 - val_loss: 0.7655 - val_accuracy: 0.7451\n",
      "Epoch 6/10\n",
      "8/8 [==============================] - 0s 39ms/step - loss: 0.7226 - accuracy: 0.7500 - val_loss: 0.7430 - val_accuracy: 0.7486\n",
      "Epoch 7/10\n",
      "8/8 [==============================] - 0s 36ms/step - loss: 0.6926 - accuracy: 0.7570 - val_loss: 0.7339 - val_accuracy: 0.7588\n",
      "Epoch 8/10\n",
      "8/8 [==============================] - 0s 36ms/step - loss: 0.6678 - accuracy: 0.7720 - val_loss: 0.7133 - val_accuracy: 0.7705\n",
      "Epoch 9/10\n",
      "8/8 [==============================] - 0s 36ms/step - loss: 0.6439 - accuracy: 0.7695 - val_loss: 0.6645 - val_accuracy: 0.7820\n",
      "Epoch 10/10\n",
      "8/8 [==============================] - 0s 35ms/step - loss: 0.6158 - accuracy: 0.7810 - val_loss: 0.6505 - val_accuracy: 0.7877\n",
      "WARNING:tensorflow:11 out of the last 11 calls to <function pfor.<locals>.f at 0x7f1f6dc35bf8> triggered tf.function retracing. Tracing is expensive and the excessive number of tracings could be due to (1) creating @tf.function repeatedly in a loop, (2) passing tensors with different shapes, (3) passing Python objects instead of tensors. For (1), please define your @tf.function outside of the loop. For (2), @tf.function has experimental_relax_shapes=True option that relaxes argument shapes that can avoid unnecessary retracing. For (3), please refer to https://www.tensorflow.org/tutorials/customization/performance#python_or_tensor_args and https://www.tensorflow.org/api_docs/python/tf/function for  more details.\n",
      "Train substitute network round 3 / 4 ...\n",
      "Epoch 1/10\n",
      "16/16 [==============================] - 0s 29ms/step - loss: 0.5440 - accuracy: 0.8075 - val_loss: 0.6460 - val_accuracy: 0.7842\n",
      "Epoch 2/10\n",
      "16/16 [==============================] - 0s 23ms/step - loss: 0.5159 - accuracy: 0.8177 - val_loss: 0.6214 - val_accuracy: 0.7926\n",
      "Epoch 3/10\n",
      "16/16 [==============================] - 0s 23ms/step - loss: 0.4839 - accuracy: 0.8353 - val_loss: 0.5916 - val_accuracy: 0.8099\n",
      "Epoch 4/10\n",
      "16/16 [==============================] - 0s 25ms/step - loss: 0.4383 - accuracy: 0.8518 - val_loss: 0.5735 - val_accuracy: 0.8166\n",
      "Epoch 5/10\n",
      "16/16 [==============================] - 0s 23ms/step - loss: 0.4031 - accuracy: 0.8717 - val_loss: 0.5630 - val_accuracy: 0.8162\n",
      "Epoch 6/10\n",
      "16/16 [==============================] - 0s 26ms/step - loss: 0.3835 - accuracy: 0.8730 - val_loss: 0.5525 - val_accuracy: 0.8257\n",
      "Epoch 7/10\n",
      "16/16 [==============================] - 0s 26ms/step - loss: 0.3651 - accuracy: 0.8830 - val_loss: 0.5326 - val_accuracy: 0.8326\n",
      "Epoch 8/10\n",
      "16/16 [==============================] - 0s 27ms/step - loss: 0.3319 - accuracy: 0.8920 - val_loss: 0.5351 - val_accuracy: 0.8276\n",
      "Epoch 9/10\n",
      "16/16 [==============================] - 0s 26ms/step - loss: 0.3103 - accuracy: 0.8975 - val_loss: 0.5340 - val_accuracy: 0.8333\n",
      "Epoch 10/10\n",
      "16/16 [==============================] - 0s 31ms/step - loss: 0.2869 - accuracy: 0.9080 - val_loss: 0.5295 - val_accuracy: 0.8341\n",
      "WARNING:tensorflow:11 out of the last 11 calls to <function pfor.<locals>.f at 0x7f1f6df20950> triggered tf.function retracing. Tracing is expensive and the excessive number of tracings could be due to (1) creating @tf.function repeatedly in a loop, (2) passing tensors with different shapes, (3) passing Python objects instead of tensors. For (1), please define your @tf.function outside of the loop. For (2), @tf.function has experimental_relax_shapes=True option that relaxes argument shapes that can avoid unnecessary retracing. For (3), please refer to https://www.tensorflow.org/tutorials/customization/performance#python_or_tensor_args and https://www.tensorflow.org/api_docs/python/tf/function for  more details.\n"
     ]
    },
    {
     "name": "stdout",
     "output_type": "stream",
     "text": [
      "Train substitute network round 4 / 4 ...\n",
      "Epoch 1/10\n",
      "32/32 [==============================] - 1s 20ms/step - loss: 0.2350 - accuracy: 0.9296 - val_loss: 0.5147 - val_accuracy: 0.8441\n",
      "Epoch 2/10\n",
      "32/32 [==============================] - 1s 17ms/step - loss: 0.2119 - accuracy: 0.9334 - val_loss: 0.5308 - val_accuracy: 0.8403\n",
      "Epoch 3/10\n",
      "32/32 [==============================] - 1s 18ms/step - loss: 0.1773 - accuracy: 0.9486 - val_loss: 0.5254 - val_accuracy: 0.8439\n",
      "Epoch 4/10\n",
      "32/32 [==============================] - 1s 17ms/step - loss: 0.1543 - accuracy: 0.9590 - val_loss: 0.5223 - val_accuracy: 0.8483\n",
      "Epoch 5/10\n",
      "32/32 [==============================] - 1s 18ms/step - loss: 0.1346 - accuracy: 0.9653 - val_loss: 0.5449 - val_accuracy: 0.8427\n",
      "Epoch 6/10\n",
      "32/32 [==============================] - 1s 20ms/step - loss: 0.1210 - accuracy: 0.9682 - val_loss: 0.5109 - val_accuracy: 0.8583\n",
      "Epoch 7/10\n",
      "32/32 [==============================] - 1s 19ms/step - loss: 0.1097 - accuracy: 0.9730 - val_loss: 0.5490 - val_accuracy: 0.8472\n",
      "Epoch 8/10\n",
      "32/32 [==============================] - 1s 19ms/step - loss: 0.0867 - accuracy: 0.9812 - val_loss: 0.5460 - val_accuracy: 0.8561\n",
      "Epoch 9/10\n",
      "32/32 [==============================] - 1s 19ms/step - loss: 0.0724 - accuracy: 0.9877 - val_loss: 0.5339 - val_accuracy: 0.8607\n",
      "Epoch 10/10\n",
      "32/32 [==============================] - 1s 20ms/step - loss: 0.0602 - accuracy: 0.9919 - val_loss: 0.5448 - val_accuracy: 0.8642\n",
      "(substitute model) Base accuracy on regular images: [0.5448446273803711, 0.8642105460166931]\n",
      "Model saved under saved_models/mnist_substitute_model/jacobian-beta\n",
      "INFO:tensorflow:Assets written to: saved_models/mnist_substitute_model/jacobian-beta/assets\n"
     ]
    }
   ],
   "source": [
    "from mnist_substitue_model import run_experiment\n",
    "\n",
    "# Create experiment model using jacobian-beta method; save the model\n",
    "run_experiment(lamda=0.1, aug_func='jacobian-beta', save_model=True)"
   ]
  },
  {
   "cell_type": "code",
   "execution_count": 12,
   "metadata": {
    "scrolled": true
   },
   "outputs": [
    {
     "name": "stdout",
     "output_type": "stream",
     "text": [
      "Get substitute model from saved_models/mnist_substitute_model/jacobian-beta\n",
      "Accuracy of Substitute model on regular images: [0.5286180973052979, 0.8690999746322632]\n",
      "Accuracy of Target model on regular images: [0.04482671990990639, 0.9869999885559082]\n",
      "Accuracy of Substitute model on adversarial images: [26.709768295288086, 0.0]\n",
      "Accuracy of Target model on adversarial images: [1.2974627017974854, 0.6179999709129333]\n"
     ]
    },
    {
     "data": {
      "image/png": "[encoded data removed]",
      "text/plain": [
       "<Figure size 432x288 with 1 Axes>"
      ]
     },
     "metadata": {
      "needs_background": "light"
     },
     "output_type": "display_data"
    },
    {
     "name": "stdout",
     "output_type": "stream",
     "text": [
      "The original image is classified as seven\n",
      "The adversarial image is classified as three\n"
     ]
    },
    {
     "data": {
      "image/png": "[encoded data removed]",
      "text/plain": [
       "<Figure size 432x288 with 1 Axes>"
      ]
     },
     "metadata": {
      "needs_background": "light"
     },
     "output_type": "display_data"
    },
    {
     "name": "stdout",
     "output_type": "stream",
     "text": [
      "The original image is classified as two\n",
      "The adversarial image is classified as five\n"
     ]
    },
    {
     "data": {
      "image/png": "[encoded data removed]",
      "text/plain": [
       "<Figure size 432x288 with 1 Axes>"
      ]
     },
     "metadata": {
      "needs_background": "light"
     },
     "output_type": "display_data"
    },
    {
     "name": "stdout",
     "output_type": "stream",
     "text": [
      "The original image is classified as one\n",
      "The adversarial image is classified as seven\n"
     ]
    },
    {
     "data": {
      "image/png": "[encoded data removed]",
      "text/plain": [
       "<Figure size 432x288 with 1 Axes>"
      ]
     },
     "metadata": {
      "needs_background": "light"
     },
     "output_type": "display_data"
    },
    {
     "name": "stdout",
     "output_type": "stream",
     "text": [
      "The original image is classified as zero\n",
      "The adversarial image is classified as five\n"
     ]
    },
    {
     "data": {
      "image/png": "[encoded data removed]",
      "text/plain": [
       "<Figure size 432x288 with 1 Axes>"
      ]
     },
     "metadata": {
      "needs_background": "light"
     },
     "output_type": "display_data"
    },
    {
     "name": "stdout",
     "output_type": "stream",
     "text": [
      "The original image is classified as four\n",
      "The adversarial image is classified as two\n"
     ]
    },
    {
     "data": {
      "image/png": "[encoded data removed]",
      "text/plain": [
       "<Figure size 432x288 with 1 Axes>"
      ]
     },
     "metadata": {
      "needs_background": "light"
     },
     "output_type": "display_data"
    },
    {
     "name": "stdout",
     "output_type": "stream",
     "text": [
      "The original image is classified as one\n",
      "The adversarial image is classified as seven\n"
     ]
    },
    {
     "data": {
      "image/png": "[encoded data removed]",
      "text/plain": [
       "<Figure size 432x288 with 1 Axes>"
      ]
     },
     "metadata": {
      "needs_background": "light"
     },
     "output_type": "display_data"
    },
    {
     "name": "stdout",
     "output_type": "stream",
     "text": [
      "The original image is classified as nine\n",
      "The adversarial image is classified as seven\n"
     ]
    },
    {
     "data": {
      "image/png": "[encoded data removed]",
      "text/plain": [
       "<Figure size 432x288 with 1 Axes>"
      ]
     },
     "metadata": {
      "needs_background": "light"
     },
     "output_type": "display_data"
    },
    {
     "name": "stdout",
     "output_type": "stream",
     "text": [
      "The original image is classified as nine\n",
      "The adversarial image is classified as two\n"
     ]
    },
    {
     "data": {
      "image/png": "[encoded data removed]",
      "text/plain": [
       "<Figure size 432x288 with 1 Axes>"
      ]
     },
     "metadata": {
      "needs_background": "light"
     },
     "output_type": "display_data"
    },
    {
     "name": "stdout",
     "output_type": "stream",
     "text": [
      "The original image is classified as nine\n",
      "The adversarial image is classified as three\n"
     ]
    },
    {
     "data": {
      "image/png": "[encoded data removed]",
      "text/plain": [
       "<Figure size 432x288 with 1 Axes>"
      ]
     },
     "metadata": {
      "needs_background": "light"
     },
     "output_type": "display_data"
    },
    {
     "name": "stdout",
     "output_type": "stream",
     "text": [
      "The original image is classified as zero\n",
      "The adversarial image is classified as five\n"
     ]
    }
   ],
   "source": [
    "from mnist_attack import run_experiment\n",
    "\n",
    "# Run experiment using jacobian-beta heuristic\n",
    "run_experiment(substitute_model_loc='saved_models/mnist_substitute_model/jacobian-beta', plot=True)"
   ]
  },
  {
   "cell_type": "code",
   "execution_count": null,
   "metadata": {},
   "outputs": [],
   "source": []
  }
 ],
 "metadata": {
  "kernelspec": {
   "display_name": "Python 3",
   "language": "python",
   "name": "python3"
  },
  "language_info": {
   "codemirror_mode": {
    "name": "ipython",
    "version": 3
   },
   "file_extension": ".py",
   "mimetype": "text/x-python",
   "name": "python",
   "nbconvert_exporter": "python",
   "pygments_lexer": "ipython3",
   "version": "3.6.9"
  }
 },
 "nbformat": 4,
 "nbformat_minor": 2
}
