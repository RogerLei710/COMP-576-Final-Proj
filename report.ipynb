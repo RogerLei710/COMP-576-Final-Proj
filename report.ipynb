{
 "cells": [
  {
   "cell_type": "markdown",
   "metadata": {},
   "source": [
    "# ELEC/COMP 576: Introduction to Deep Learning\n",
    "## Final project\n",
    "\n",
    "## author: \n",
    "## netid: "
   ]
  },
  {
   "cell_type": "markdown",
   "metadata": {},
   "source": [
    "## Part 0 Create target model"
   ]
  },
  {
   "cell_type": "code",
   "execution_count": 1,
   "metadata": {
    "scrolled": false
   },
   "outputs": [
    {
     "name": "stdout",
     "output_type": "stream",
     "text": [
      "Epoch 1/20\n",
      "235/235 [==============================] - 5s 22ms/step - loss: 0.8133 - accuracy: 0.7487 - val_loss: 0.2131 - val_accuracy: 0.9379\n",
      "Epoch 2/20\n",
      "235/235 [==============================] - 6s 24ms/step - loss: 0.2987 - accuracy: 0.9109 - val_loss: 0.1309 - val_accuracy: 0.9600\n",
      "Epoch 3/20\n",
      "235/235 [==============================] - 5s 21ms/step - loss: 0.2144 - accuracy: 0.9369 - val_loss: 0.0996 - val_accuracy: 0.9689\n",
      "Epoch 4/20\n",
      "235/235 [==============================] - 6s 24ms/step - loss: 0.1744 - accuracy: 0.9476 - val_loss: 0.0879 - val_accuracy: 0.9716\n",
      "Epoch 5/20\n",
      "235/235 [==============================] - 5s 23ms/step - loss: 0.1468 - accuracy: 0.9560 - val_loss: 0.0811 - val_accuracy: 0.9739\n",
      "Epoch 6/20\n",
      "235/235 [==============================] - 5s 22ms/step - loss: 0.1342 - accuracy: 0.9606 - val_loss: 0.0722 - val_accuracy: 0.9765\n",
      "Epoch 7/20\n",
      "235/235 [==============================] - 6s 25ms/step - loss: 0.1242 - accuracy: 0.9642 - val_loss: 0.0646 - val_accuracy: 0.9793\n",
      "Epoch 8/20\n",
      "235/235 [==============================] - 7s 29ms/step - loss: 0.1095 - accuracy: 0.9671 - val_loss: 0.0604 - val_accuracy: 0.9807\n",
      "Epoch 9/20\n",
      "235/235 [==============================] - 6s 27ms/step - loss: 0.1042 - accuracy: 0.9700 - val_loss: 0.0557 - val_accuracy: 0.9817\n",
      "Epoch 10/20\n",
      "235/235 [==============================] - 6s 26ms/step - loss: 0.0955 - accuracy: 0.9726 - val_loss: 0.0526 - val_accuracy: 0.9824\n",
      "Epoch 11/20\n",
      "235/235 [==============================] - 7s 29ms/step - loss: 0.0887 - accuracy: 0.9734 - val_loss: 0.0537 - val_accuracy: 0.9834\n",
      "Epoch 12/20\n",
      "235/235 [==============================] - 6s 26ms/step - loss: 0.0845 - accuracy: 0.9747 - val_loss: 0.0492 - val_accuracy: 0.9836\n",
      "Epoch 13/20\n",
      "235/235 [==============================] - 6s 26ms/step - loss: 0.0786 - accuracy: 0.9762 - val_loss: 0.0487 - val_accuracy: 0.9843\n",
      "Epoch 14/20\n",
      "235/235 [==============================] - 6s 25ms/step - loss: 0.0759 - accuracy: 0.9774 - val_loss: 0.0481 - val_accuracy: 0.9841\n",
      "Epoch 15/20\n",
      "235/235 [==============================] - 6s 25ms/step - loss: 0.0717 - accuracy: 0.9782 - val_loss: 0.0459 - val_accuracy: 0.9839\n",
      "Epoch 16/20\n",
      "235/235 [==============================] - 6s 27ms/step - loss: 0.0698 - accuracy: 0.9792 - val_loss: 0.0462 - val_accuracy: 0.9856\n",
      "Epoch 17/20\n",
      "235/235 [==============================] - 6s 26ms/step - loss: 0.0669 - accuracy: 0.9801 - val_loss: 0.0473 - val_accuracy: 0.9846\n",
      "Epoch 18/20\n",
      "235/235 [==============================] - 6s 27ms/step - loss: 0.0628 - accuracy: 0.9819 - val_loss: 0.0493 - val_accuracy: 0.9842\n",
      "Epoch 19/20\n",
      "235/235 [==============================] - 6s 27ms/step - loss: 0.0604 - accuracy: 0.9810 - val_loss: 0.0413 - val_accuracy: 0.9864\n",
      "Epoch 20/20\n",
      "235/235 [==============================] - 7s 30ms/step - loss: 0.0572 - accuracy: 0.9827 - val_loss: 0.0464 - val_accuracy: 0.9852\n",
      "Base accuracy on regular images: [0.04643692821264267, 0.9851999878883362]\n",
      "WARNING:tensorflow:From /usr/local/lib/python3.6/dist-packages/tensorflow/python/training/tracking/tracking.py:111: Model.state_updates (from tensorflow.python.keras.engine.training) is deprecated and will be removed in a future version.\n",
      "Instructions for updating:\n",
      "This property should not be used in TensorFlow 2.0, as updates are applied automatically.\n",
      "WARNING:tensorflow:From /usr/local/lib/python3.6/dist-packages/tensorflow/python/training/tracking/tracking.py:111: Layer.updates (from tensorflow.python.keras.engine.base_layer) is deprecated and will be removed in a future version.\n",
      "Instructions for updating:\n",
      "This property should not be used in TensorFlow 2.0, as updates are applied automatically.\n",
      "INFO:tensorflow:Assets written to: saved_models/mnist_target_model/assets\n"
     ]
    }
   ],
   "source": [
    "from mnist_target_model import run_experiment\n",
    "\n",
    "# Create target CNN model\n",
    "run_experiment(save_model=True)"
   ]
  },
  {
   "cell_type": "markdown",
   "metadata": {},
   "source": [
    "## Part 1 Evaluation on black box, using Jacobian heuristic"
   ]
  },
  {
   "cell_type": "code",
   "execution_count": 2,
   "metadata": {
    "scrolled": false
   },
   "outputs": [
    {
     "name": "stdout",
     "output_type": "stream",
     "text": [
      "Summarize each class' distribution {0: 934, 1: 1077, 2: 981, 3: 955, 4: 940, 5: 848, 6: 907, 7: 982, 8: 911, 9: 965}\n",
      "Train substitute network round 0 / 4 ...\n",
      "Epoch 1/10\n",
      "2/2 [==============================] - 0s 221ms/step - loss: 2.3009 - accuracy: 0.1180 - val_loss: 2.2993 - val_accuracy: 0.1373\n",
      "Epoch 2/10\n",
      "2/2 [==============================] - 0s 113ms/step - loss: 2.2976 - accuracy: 0.1540 - val_loss: 2.2966 - val_accuracy: 0.0974\n",
      "Epoch 3/10\n",
      "2/2 [==============================] - 0s 117ms/step - loss: 2.2937 - accuracy: 0.1280 - val_loss: 2.2935 - val_accuracy: 0.0959\n",
      "Epoch 4/10\n",
      "2/2 [==============================] - 0s 104ms/step - loss: 2.2889 - accuracy: 0.1280 - val_loss: 2.2894 - val_accuracy: 0.0967\n",
      "Epoch 5/10\n",
      "2/2 [==============================] - 0s 117ms/step - loss: 2.2832 - accuracy: 0.1280 - val_loss: 2.2844 - val_accuracy: 0.0993\n",
      "Epoch 6/10\n",
      "2/2 [==============================] - 0s 115ms/step - loss: 2.2764 - accuracy: 0.1340 - val_loss: 2.2783 - val_accuracy: 0.1081\n",
      "Epoch 7/10\n",
      "2/2 [==============================] - 0s 115ms/step - loss: 2.2684 - accuracy: 0.1400 - val_loss: 2.2707 - val_accuracy: 0.1171\n",
      "Epoch 8/10\n",
      "2/2 [==============================] - 0s 111ms/step - loss: 2.2586 - accuracy: 0.1460 - val_loss: 2.2614 - val_accuracy: 0.1246\n",
      "Epoch 9/10\n",
      "2/2 [==============================] - 0s 117ms/step - loss: 2.2465 - accuracy: 0.1600 - val_loss: 2.2497 - val_accuracy: 0.1351\n",
      "Epoch 10/10\n",
      "2/2 [==============================] - 0s 114ms/step - loss: 2.2322 - accuracy: 0.1760 - val_loss: 2.2356 - val_accuracy: 0.1508\n",
      "Train substitute network round 1 / 4 ...\n",
      "Epoch 1/10\n",
      "4/4 [==============================] - 0s 75ms/step - loss: 2.2044 - accuracy: 0.2030 - val_loss: 2.1966 - val_accuracy: 0.1992\n",
      "Epoch 2/10\n",
      "4/4 [==============================] - 0s 66ms/step - loss: 2.1563 - accuracy: 0.2650 - val_loss: 2.1422 - val_accuracy: 0.2755\n",
      "Epoch 3/10\n",
      "4/4 [==============================] - 0s 59ms/step - loss: 2.0914 - accuracy: 0.3340 - val_loss: 2.0658 - val_accuracy: 0.3314\n",
      "Epoch 4/10\n",
      "4/4 [==============================] - 0s 85ms/step - loss: 2.0052 - accuracy: 0.3640 - val_loss: 1.9640 - val_accuracy: 0.3712\n",
      "Epoch 5/10\n",
      "4/4 [==============================] - 0s 77ms/step - loss: 1.8940 - accuracy: 0.4020 - val_loss: 1.8438 - val_accuracy: 0.4058\n",
      "Epoch 6/10\n",
      "4/4 [==============================] - 0s 67ms/step - loss: 1.7642 - accuracy: 0.4440 - val_loss: 1.7044 - val_accuracy: 0.4671\n",
      "Epoch 7/10\n",
      "4/4 [==============================] - 0s 67ms/step - loss: 1.6228 - accuracy: 0.4890 - val_loss: 1.5637 - val_accuracy: 0.5164\n",
      "Epoch 8/10\n",
      "4/4 [==============================] - 0s 72ms/step - loss: 1.4763 - accuracy: 0.5380 - val_loss: 1.4202 - val_accuracy: 0.5676\n",
      "Epoch 9/10\n",
      "4/4 [==============================] - 0s 70ms/step - loss: 1.3355 - accuracy: 0.5900 - val_loss: 1.2839 - val_accuracy: 0.6454\n",
      "Epoch 10/10\n",
      "4/4 [==============================] - 0s 71ms/step - loss: 1.2099 - accuracy: 0.6390 - val_loss: 1.1640 - val_accuracy: 0.6716\n",
      "Train substitute network round 2 / 4 ...\n",
      "Epoch 1/10\n",
      "8/8 [==============================] - 1s 64ms/step - loss: 1.0593 - accuracy: 0.6750 - val_loss: 1.0349 - val_accuracy: 0.6771\n",
      "Epoch 2/10\n",
      "8/8 [==============================] - 0s 47ms/step - loss: 0.9371 - accuracy: 0.6895 - val_loss: 0.9224 - val_accuracy: 0.7091\n",
      "Epoch 3/10\n",
      "8/8 [==============================] - 0s 42ms/step - loss: 0.8547 - accuracy: 0.7105 - val_loss: 0.8787 - val_accuracy: 0.7256\n",
      "Epoch 4/10\n",
      "8/8 [==============================] - 0s 53ms/step - loss: 0.8126 - accuracy: 0.7215 - val_loss: 0.8289 - val_accuracy: 0.7334\n",
      "Epoch 5/10\n",
      "8/8 [==============================] - 0s 46ms/step - loss: 0.7733 - accuracy: 0.7320 - val_loss: 0.8332 - val_accuracy: 0.7282\n",
      "Epoch 6/10\n",
      "8/8 [==============================] - 0s 46ms/step - loss: 0.7371 - accuracy: 0.7455 - val_loss: 0.7699 - val_accuracy: 0.7528\n",
      "Epoch 7/10\n",
      "8/8 [==============================] - 0s 42ms/step - loss: 0.7150 - accuracy: 0.7445 - val_loss: 0.7577 - val_accuracy: 0.7544\n",
      "Epoch 8/10\n",
      "8/8 [==============================] - 0s 43ms/step - loss: 0.6925 - accuracy: 0.7530 - val_loss: 0.7520 - val_accuracy: 0.7531\n",
      "Epoch 9/10\n",
      "8/8 [==============================] - 0s 43ms/step - loss: 0.6788 - accuracy: 0.7470 - val_loss: 0.7424 - val_accuracy: 0.7521\n",
      "Epoch 10/10\n",
      "8/8 [==============================] - 0s 46ms/step - loss: 0.6657 - accuracy: 0.7495 - val_loss: 0.7380 - val_accuracy: 0.7561\n",
      "Train substitute network round 3 / 4 ...\n",
      "Epoch 1/10\n",
      "16/16 [==============================] - 1s 34ms/step - loss: 0.6340 - accuracy: 0.7655 - val_loss: 0.7023 - val_accuracy: 0.7703\n",
      "Epoch 2/10\n",
      "16/16 [==============================] - 0s 30ms/step - loss: 0.5936 - accuracy: 0.7790 - val_loss: 0.6876 - val_accuracy: 0.7760\n",
      "Epoch 3/10\n",
      "16/16 [==============================] - 1s 32ms/step - loss: 0.5605 - accuracy: 0.7925 - val_loss: 0.6562 - val_accuracy: 0.7827\n",
      "Epoch 4/10\n",
      "16/16 [==============================] - 0s 29ms/step - loss: 0.5271 - accuracy: 0.8020 - val_loss: 0.6440 - val_accuracy: 0.7884\n",
      "Epoch 5/10\n",
      "16/16 [==============================] - 0s 29ms/step - loss: 0.5068 - accuracy: 0.8130 - val_loss: 0.6204 - val_accuracy: 0.8088\n",
      "Epoch 6/10\n",
      "16/16 [==============================] - 0s 29ms/step - loss: 0.4796 - accuracy: 0.8307 - val_loss: 0.6011 - val_accuracy: 0.8132\n",
      "Epoch 7/10\n",
      "16/16 [==============================] - 0s 29ms/step - loss: 0.4368 - accuracy: 0.8472 - val_loss: 0.5993 - val_accuracy: 0.8160\n",
      "Epoch 8/10\n",
      "16/16 [==============================] - 0s 30ms/step - loss: 0.4005 - accuracy: 0.8590 - val_loss: 0.5873 - val_accuracy: 0.8197\n",
      "Epoch 9/10\n",
      "16/16 [==============================] - 0s 30ms/step - loss: 0.3795 - accuracy: 0.8708 - val_loss: 0.5842 - val_accuracy: 0.8202\n",
      "Epoch 10/10\n",
      "16/16 [==============================] - 0s 31ms/step - loss: 0.3494 - accuracy: 0.8845 - val_loss: 0.5686 - val_accuracy: 0.8308\n",
      "Train substitute network round 4 / 4 ...\n",
      "Epoch 1/10\n",
      "32/32 [==============================] - 1s 24ms/step - loss: 0.3178 - accuracy: 0.8932 - val_loss: 0.5762 - val_accuracy: 0.8299\n",
      "Epoch 2/10\n",
      "32/32 [==============================] - 1s 21ms/step - loss: 0.2653 - accuracy: 0.9158 - val_loss: 0.5495 - val_accuracy: 0.8451\n",
      "Epoch 3/10\n",
      "32/32 [==============================] - 1s 21ms/step - loss: 0.2199 - accuracy: 0.9339 - val_loss: 0.5643 - val_accuracy: 0.8451\n",
      "Epoch 4/10\n",
      "32/32 [==============================] - 1s 21ms/step - loss: 0.1879 - accuracy: 0.9520 - val_loss: 0.5329 - val_accuracy: 0.8577\n",
      "Epoch 5/10\n",
      "32/32 [==============================] - 1s 20ms/step - loss: 0.1652 - accuracy: 0.9567 - val_loss: 0.5765 - val_accuracy: 0.8523\n",
      "Epoch 6/10\n",
      "32/32 [==============================] - 1s 20ms/step - loss: 0.1354 - accuracy: 0.9696 - val_loss: 0.5620 - val_accuracy: 0.8597\n",
      "Epoch 7/10\n",
      "32/32 [==============================] - 1s 21ms/step - loss: 0.1131 - accuracy: 0.9766 - val_loss: 0.5800 - val_accuracy: 0.8578\n",
      "Epoch 8/10\n",
      "32/32 [==============================] - 1s 22ms/step - loss: 0.1061 - accuracy: 0.9756 - val_loss: 0.5843 - val_accuracy: 0.8585\n",
      "Epoch 9/10\n",
      "32/32 [==============================] - 1s 21ms/step - loss: 0.0815 - accuracy: 0.9854 - val_loss: 0.5887 - val_accuracy: 0.8663\n",
      "Epoch 10/10\n",
      "32/32 [==============================] - 1s 23ms/step - loss: 0.0726 - accuracy: 0.9851 - val_loss: 0.5930 - val_accuracy: 0.8674\n",
      "(substitute model) Base accuracy on regular images: [0.5930244326591492, 0.8673684000968933]\n",
      "Model saved under saved_models/mnist_substitute_model/jacobian\n",
      "INFO:tensorflow:Assets written to: saved_models/mnist_substitute_model/jacobian/assets\n"
     ]
    }
   ],
   "source": [
    "from mnist_substitue_model import run_experiment\n",
    "\n",
    "# Create experiment model using jacobian's method; save the model\n",
    "run_experiment(aug_func='jacobian', save_model=True)"
   ]
  },
  {
   "cell_type": "code",
   "execution_count": 1,
   "metadata": {
    "scrolled": true
   },
   "outputs": [
    {
     "name": "stdout",
     "output_type": "stream",
     "text": [
      "Get substitute model from saved_models/mnist_substitute_model/jacobian\n",
      "Accuracy of Substitute model on regular images: [0.5785465836524963, 0.8718000054359436]\n",
      "Accuracy of Target model on regular images: [0.04643692821264267, 0.9851999878883362]\n",
      "Accuracy of Substitute model on adversarial images: [23.95102882385254, 0.0020000000949949026]\n",
      "Accuracy of Target model on adversarial images: [1.2973723411560059, 0.6610000133514404]\n"
     ]
    },
    {
     "data": {
      "image/png": "[encoded data removed]",
      "text/plain": [
       "<Figure size 432x288 with 1 Axes>"
      ]
     },
     "metadata": {
      "needs_background": "light"
     },
     "output_type": "display_data"
    },
    {
     "name": "stdout",
     "output_type": "stream",
     "text": [
      "The original image is classified as seven\n",
      "The adversarial image is classified as two\n"
     ]
    },
    {
     "data": {
      "image/png": "[encoded data removed]",
      "text/plain": [
       "<Figure size 432x288 with 1 Axes>"
      ]
     },
     "metadata": {
      "needs_background": "light"
     },
     "output_type": "display_data"
    },
    {
     "name": "stdout",
     "output_type": "stream",
     "text": [
      "The original image is classified as two\n",
      "The adversarial image is classified as five\n"
     ]
    },
    {
     "data": {
      "image/png": "[encoded data removed]",
      "text/plain": [
       "<Figure size 432x288 with 1 Axes>"
      ]
     },
     "metadata": {
      "needs_background": "light"
     },
     "output_type": "display_data"
    },
    {
     "name": "stdout",
     "output_type": "stream",
     "text": [
      "The original image is classified as one\n",
      "The adversarial image is classified as five\n"
     ]
    },
    {
     "data": {
      "image/png": "[encoded data removed]",
      "text/plain": [
       "<Figure size 432x288 with 1 Axes>"
      ]
     },
     "metadata": {
      "needs_background": "light"
     },
     "output_type": "display_data"
    },
    {
     "name": "stdout",
     "output_type": "stream",
     "text": [
      "The original image is classified as zero\n",
      "The adversarial image is classified as five\n"
     ]
    },
    {
     "data": {
      "image/png": "[encoded data removed]",
      "text/plain": [
       "<Figure size 432x288 with 1 Axes>"
      ]
     },
     "metadata": {
      "needs_background": "light"
     },
     "output_type": "display_data"
    },
    {
     "name": "stdout",
     "output_type": "stream",
     "text": [
      "The original image is classified as four\n",
      "The adversarial image is classified as seven\n"
     ]
    },
    {
     "data": {
      "image/png": "[encoded data removed]",
      "text/plain": [
       "<Figure size 432x288 with 1 Axes>"
      ]
     },
     "metadata": {
      "needs_background": "light"
     },
     "output_type": "display_data"
    },
    {
     "name": "stdout",
     "output_type": "stream",
     "text": [
      "The original image is classified as one\n",
      "The adversarial image is classified as seven\n"
     ]
    },
    {
     "data": {
      "image/png": "[encoded data removed]",
      "text/plain": [
       "<Figure size 432x288 with 1 Axes>"
      ]
     },
     "metadata": {
      "needs_background": "light"
     },
     "output_type": "display_data"
    },
    {
     "name": "stdout",
     "output_type": "stream",
     "text": [
      "The original image is classified as four\n",
      "The adversarial image is classified as three\n"
     ]
    },
    {
     "data": {
      "image/png": "[encoded data removed]",
      "text/plain": [
       "<Figure size 432x288 with 1 Axes>"
      ]
     },
     "metadata": {
      "needs_background": "light"
     },
     "output_type": "display_data"
    },
    {
     "name": "stdout",
     "output_type": "stream",
     "text": [
      "The original image is classified as nine\n",
      "The adversarial image is classified as two\n"
     ]
    },
    {
     "data": {
      "image/png": "[encoded data removed]",
      "text/plain": [
       "<Figure size 432x288 with 1 Axes>"
      ]
     },
     "metadata": {
      "needs_background": "light"
     },
     "output_type": "display_data"
    },
    {
     "name": "stdout",
     "output_type": "stream",
     "text": [
      "The original image is classified as nine\n",
      "The adversarial image is classified as three\n"
     ]
    },
    {
     "data": {
      "image/png": "[encoded data removed]",
      "text/plain": [
       "<Figure size 432x288 with 1 Axes>"
      ]
     },
     "metadata": {
      "needs_background": "light"
     },
     "output_type": "display_data"
    },
    {
     "name": "stdout",
     "output_type": "stream",
     "text": [
      "The original image is classified as zero\n",
      "The adversarial image is classified as five\n"
     ]
    }
   ],
   "source": [
    "from mnist_attack import run_experiment\n",
    "\n",
    "# Run experiment using jacobian heuristic\n",
    "run_experiment(substitute_model_loc='saved_models/mnist_substitute_model/jacobian', plot=True)"
   ]
  },
  {
   "cell_type": "markdown",
   "metadata": {},
   "source": [
    "## Part 2 Evaluation on black box, using 576final heuristic"
   ]
  },
  {
   "cell_type": "code",
   "execution_count": 2,
   "metadata": {
    "scrolled": true
   },
   "outputs": [
    {
     "name": "stdout",
     "output_type": "stream",
     "text": [
      "Summarize each class' distribution {0: 934, 1: 1077, 2: 981, 3: 955, 4: 940, 5: 848, 6: 907, 7: 982, 8: 911, 9: 965}\n",
      "Train substitute network round 0 / 4 ...\n",
      "Epoch 1/10\n",
      "2/2 [==============================] - 0s 199ms/step - loss: 2.3002 - accuracy: 0.1300 - val_loss: 2.2986 - val_accuracy: 0.0972\n",
      "Epoch 2/10\n",
      "2/2 [==============================] - 0s 119ms/step - loss: 2.2959 - accuracy: 0.1280 - val_loss: 2.2953 - val_accuracy: 0.0959\n",
      "Epoch 3/10\n",
      "2/2 [==============================] - 0s 123ms/step - loss: 2.2912 - accuracy: 0.1280 - val_loss: 2.2917 - val_accuracy: 0.0959\n",
      "Epoch 4/10\n",
      "2/2 [==============================] - 0s 121ms/step - loss: 2.2860 - accuracy: 0.1280 - val_loss: 2.2875 - val_accuracy: 0.0959\n",
      "Epoch 5/10\n",
      "2/2 [==============================] - 0s 116ms/step - loss: 2.2798 - accuracy: 0.1280 - val_loss: 2.2826 - val_accuracy: 0.0959\n",
      "Epoch 6/10\n",
      "2/2 [==============================] - 0s 111ms/step - loss: 2.2728 - accuracy: 0.1280 - val_loss: 2.2770 - val_accuracy: 0.0959\n",
      "Epoch 7/10\n",
      "2/2 [==============================] - 0s 114ms/step - loss: 2.2643 - accuracy: 0.1280 - val_loss: 2.2703 - val_accuracy: 0.0959\n",
      "Epoch 8/10\n",
      "2/2 [==============================] - 0s 106ms/step - loss: 2.2545 - accuracy: 0.1280 - val_loss: 2.2621 - val_accuracy: 0.0959\n",
      "Epoch 9/10\n",
      "2/2 [==============================] - 0s 116ms/step - loss: 2.2429 - accuracy: 0.1280 - val_loss: 2.2518 - val_accuracy: 0.0960\n",
      "Epoch 10/10\n",
      "2/2 [==============================] - 0s 114ms/step - loss: 2.2298 - accuracy: 0.1280 - val_loss: 2.2393 - val_accuracy: 0.0971\n",
      "Train substitute network round 1 / 4 ...\n",
      "Epoch 1/10\n",
      "4/4 [==============================] - 0s 78ms/step - loss: 2.2062 - accuracy: 0.1410 - val_loss: 2.2047 - val_accuracy: 0.1469\n",
      "Epoch 2/10\n",
      "4/4 [==============================] - 0s 62ms/step - loss: 2.1642 - accuracy: 0.2060 - val_loss: 2.1535 - val_accuracy: 0.2411\n",
      "Epoch 3/10\n",
      "4/4 [==============================] - 0s 60ms/step - loss: 2.1064 - accuracy: 0.3120 - val_loss: 2.0830 - val_accuracy: 0.3576\n",
      "Epoch 4/10\n",
      "4/4 [==============================] - 0s 60ms/step - loss: 2.0285 - accuracy: 0.4060 - val_loss: 1.9904 - val_accuracy: 0.3913\n",
      "Epoch 5/10\n",
      "4/4 [==============================] - 0s 60ms/step - loss: 1.9292 - accuracy: 0.4180 - val_loss: 1.8759 - val_accuracy: 0.4112\n",
      "Epoch 6/10\n",
      "4/4 [==============================] - 0s 61ms/step - loss: 1.8109 - accuracy: 0.4140 - val_loss: 1.7417 - val_accuracy: 0.4266\n",
      "Epoch 7/10\n",
      "4/4 [==============================] - 0s 72ms/step - loss: 1.6755 - accuracy: 0.4740 - val_loss: 1.5946 - val_accuracy: 0.5283\n",
      "Epoch 8/10\n",
      "4/4 [==============================] - 0s 77ms/step - loss: 1.5325 - accuracy: 0.5360 - val_loss: 1.4475 - val_accuracy: 0.5729\n",
      "Epoch 9/10\n",
      "4/4 [==============================] - 0s 73ms/step - loss: 1.3857 - accuracy: 0.6010 - val_loss: 1.3054 - val_accuracy: 0.6395\n",
      "Epoch 10/10\n",
      "4/4 [==============================] - 0s 77ms/step - loss: 1.2526 - accuracy: 0.6470 - val_loss: 1.1729 - val_accuracy: 0.7091\n",
      "Train substitute network round 2 / 4 ...\n",
      "Epoch 1/10\n",
      "8/8 [==============================] - 0s 44ms/step - loss: 1.0918 - accuracy: 0.6935 - val_loss: 0.9923 - val_accuracy: 0.7018\n",
      "Epoch 2/10\n",
      "8/8 [==============================] - 0s 34ms/step - loss: 0.9468 - accuracy: 0.7055 - val_loss: 0.8972 - val_accuracy: 0.7332\n",
      "Epoch 3/10\n",
      "8/8 [==============================] - 0s 35ms/step - loss: 0.8598 - accuracy: 0.7205 - val_loss: 0.8482 - val_accuracy: 0.7302\n",
      "Epoch 4/10\n",
      "8/8 [==============================] - 0s 41ms/step - loss: 0.8021 - accuracy: 0.7250 - val_loss: 0.7759 - val_accuracy: 0.7657\n",
      "Epoch 5/10\n",
      "8/8 [==============================] - 0s 44ms/step - loss: 0.7580 - accuracy: 0.7385 - val_loss: 0.7368 - val_accuracy: 0.7719\n",
      "Epoch 6/10\n",
      "8/8 [==============================] - 0s 45ms/step - loss: 0.7289 - accuracy: 0.7385 - val_loss: 0.7256 - val_accuracy: 0.7753\n",
      "Epoch 7/10\n",
      "8/8 [==============================] - 0s 47ms/step - loss: 0.7010 - accuracy: 0.7570 - val_loss: 0.7276 - val_accuracy: 0.7759\n",
      "Epoch 8/10\n",
      "8/8 [==============================] - 0s 43ms/step - loss: 0.6697 - accuracy: 0.7635 - val_loss: 0.6812 - val_accuracy: 0.7896\n",
      "Epoch 9/10\n",
      "8/8 [==============================] - 0s 40ms/step - loss: 0.6420 - accuracy: 0.7810 - val_loss: 0.6651 - val_accuracy: 0.7914\n",
      "Epoch 10/10\n",
      "8/8 [==============================] - 0s 37ms/step - loss: 0.6115 - accuracy: 0.7830 - val_loss: 0.6480 - val_accuracy: 0.8006\n",
      "Train substitute network round 3 / 4 ...\n",
      "Epoch 1/10\n",
      "16/16 [==============================] - 0s 28ms/step - loss: 0.5834 - accuracy: 0.7905 - val_loss: 0.6165 - val_accuracy: 0.8137\n",
      "Epoch 2/10\n",
      "16/16 [==============================] - 0s 23ms/step - loss: 0.5422 - accuracy: 0.8050 - val_loss: 0.5847 - val_accuracy: 0.8257\n",
      "Epoch 3/10\n",
      "16/16 [==============================] - 0s 25ms/step - loss: 0.5029 - accuracy: 0.8180 - val_loss: 0.5799 - val_accuracy: 0.8293\n",
      "Epoch 4/10\n",
      "16/16 [==============================] - 0s 26ms/step - loss: 0.4792 - accuracy: 0.8315 - val_loss: 0.5584 - val_accuracy: 0.8301\n",
      "Epoch 5/10\n",
      "16/16 [==============================] - 0s 27ms/step - loss: 0.4362 - accuracy: 0.8443 - val_loss: 0.5350 - val_accuracy: 0.8446\n",
      "Epoch 6/10\n",
      "16/16 [==============================] - 0s 27ms/step - loss: 0.4101 - accuracy: 0.8572 - val_loss: 0.5192 - val_accuracy: 0.8504\n",
      "Epoch 7/10\n",
      "16/16 [==============================] - 0s 27ms/step - loss: 0.3802 - accuracy: 0.8622 - val_loss: 0.5199 - val_accuracy: 0.8491\n",
      "Epoch 8/10\n",
      "16/16 [==============================] - 0s 29ms/step - loss: 0.3580 - accuracy: 0.8765 - val_loss: 0.5132 - val_accuracy: 0.8451\n",
      "Epoch 9/10\n",
      "16/16 [==============================] - 0s 28ms/step - loss: 0.3439 - accuracy: 0.8780 - val_loss: 0.4985 - val_accuracy: 0.8555\n",
      "Epoch 10/10\n",
      "16/16 [==============================] - 1s 33ms/step - loss: 0.3164 - accuracy: 0.8895 - val_loss: 0.4717 - val_accuracy: 0.8661\n",
      "Train substitute network round 4 / 4 ...\n",
      "Epoch 1/10\n",
      "32/32 [==============================] - 1s 22ms/step - loss: 0.2835 - accuracy: 0.9084 - val_loss: 0.4754 - val_accuracy: 0.8625\n",
      "Epoch 2/10\n",
      "32/32 [==============================] - 1s 20ms/step - loss: 0.2411 - accuracy: 0.9233 - val_loss: 0.4706 - val_accuracy: 0.8687\n",
      "Epoch 3/10\n",
      "32/32 [==============================] - 1s 20ms/step - loss: 0.2108 - accuracy: 0.9389 - val_loss: 0.4522 - val_accuracy: 0.8765\n",
      "Epoch 4/10\n",
      "32/32 [==============================] - 1s 21ms/step - loss: 0.1790 - accuracy: 0.9463 - val_loss: 0.4707 - val_accuracy: 0.8757\n",
      "Epoch 5/10\n",
      "32/32 [==============================] - 1s 21ms/step - loss: 0.1550 - accuracy: 0.9554 - val_loss: 0.4792 - val_accuracy: 0.8763\n",
      "Epoch 6/10\n",
      "32/32 [==============================] - 1s 21ms/step - loss: 0.1368 - accuracy: 0.9610 - val_loss: 0.4669 - val_accuracy: 0.8788\n",
      "Epoch 7/10\n",
      "32/32 [==============================] - 1s 20ms/step - loss: 0.1097 - accuracy: 0.9731 - val_loss: 0.4960 - val_accuracy: 0.8762\n",
      "Epoch 8/10\n",
      "32/32 [==============================] - 1s 20ms/step - loss: 0.1001 - accuracy: 0.9781 - val_loss: 0.4916 - val_accuracy: 0.8780\n",
      "Epoch 9/10\n",
      "32/32 [==============================] - 1s 22ms/step - loss: 0.0821 - accuracy: 0.9840 - val_loss: 0.5110 - val_accuracy: 0.8788\n",
      "Epoch 10/10\n",
      "32/32 [==============================] - 1s 20ms/step - loss: 0.0659 - accuracy: 0.9931 - val_loss: 0.5076 - val_accuracy: 0.8834\n",
      "(substitute model) Base accuracy on regular images: [0.5076316595077515, 0.8833684325218201]\n",
      "Model saved under saved_models/mnist_substitute_model/576final\n",
      "WARNING:tensorflow:From /usr/local/lib/python3.6/dist-packages/tensorflow/python/training/tracking/tracking.py:111: Model.state_updates (from tensorflow.python.keras.engine.training) is deprecated and will be removed in a future version.\n",
      "Instructions for updating:\n",
      "This property should not be used in TensorFlow 2.0, as updates are applied automatically.\n",
      "WARNING:tensorflow:From /usr/local/lib/python3.6/dist-packages/tensorflow/python/training/tracking/tracking.py:111: Layer.updates (from tensorflow.python.keras.engine.base_layer) is deprecated and will be removed in a future version.\n",
      "Instructions for updating:\n",
      "This property should not be used in TensorFlow 2.0, as updates are applied automatically.\n",
      "INFO:tensorflow:Assets written to: saved_models/mnist_substitute_model/576final/assets\n"
     ]
    }
   ],
   "source": [
    "from mnist_substitue_model import run_experiment\n",
    "\n",
    "# Create experiment model using 576final's method; save the model\n",
    "run_experiment(aug_func='576final', save_model=True)"
   ]
  },
  {
   "cell_type": "code",
   "execution_count": 3,
   "metadata": {
    "scrolled": true
   },
   "outputs": [
    {
     "name": "stdout",
     "output_type": "stream",
     "text": [
      "Get substitute model from saved_models/mnist_substitute_model/576final\n",
      "Accuracy of Substitute model on regular images: [0.49715813994407654, 0.8873000144958496]\n",
      "Accuracy of Target model on regular images: [0.04643692821264267, 0.9851999878883362]\n",
      "Accuracy of Substitute model on adversarial images: [26.88811492919922, 0.0020000000949949026]\n",
      "Accuracy of Target model on adversarial images: [1.5032012462615967, 0.621999979019165]\n"
     ]
    },
    {
     "data": {
      "image/png": "[encoded data removed]",
      "text/plain": [
       "<Figure size 432x288 with 1 Axes>"
      ]
     },
     "metadata": {
      "needs_background": "light"
     },
     "output_type": "display_data"
    },
    {
     "name": "stdout",
     "output_type": "stream",
     "text": [
      "The original image is classified as seven\n",
      "The adversarial image is classified as three\n"
     ]
    },
    {
     "data": {
      "image/png": "[encoded data removed]",
      "text/plain": [
       "<Figure size 432x288 with 1 Axes>"
      ]
     },
     "metadata": {
      "needs_background": "light"
     },
     "output_type": "display_data"
    },
    {
     "name": "stdout",
     "output_type": "stream",
     "text": [
      "The original image is classified as two\n",
      "The adversarial image is classified as three\n"
     ]
    },
    {
     "data": {
      "image/png": "[encoded data removed]",
      "text/plain": [
       "<Figure size 432x288 with 1 Axes>"
      ]
     },
     "metadata": {
      "needs_background": "light"
     },
     "output_type": "display_data"
    },
    {
     "name": "stdout",
     "output_type": "stream",
     "text": [
      "The original image is classified as one\n",
      "The adversarial image is classified as two\n"
     ]
    },
    {
     "data": {
      "image/png": "[encoded data removed]",
      "text/plain": [
       "<Figure size 432x288 with 1 Axes>"
      ]
     },
     "metadata": {
      "needs_background": "light"
     },
     "output_type": "display_data"
    },
    {
     "name": "stdout",
     "output_type": "stream",
     "text": [
      "The original image is classified as zero\n",
      "The adversarial image is classified as five\n"
     ]
    },
    {
     "data": {
      "image/png": "[encoded data removed]",
      "text/plain": [
       "<Figure size 432x288 with 1 Axes>"
      ]
     },
     "metadata": {
      "needs_background": "light"
     },
     "output_type": "display_data"
    },
    {
     "name": "stdout",
     "output_type": "stream",
     "text": [
      "The original image is classified as four\n",
      "The adversarial image is classified as three\n"
     ]
    },
    {
     "data": {
      "image/png": "[encoded data removed]",
      "text/plain": [
       "<Figure size 432x288 with 1 Axes>"
      ]
     },
     "metadata": {
      "needs_background": "light"
     },
     "output_type": "display_data"
    },
    {
     "name": "stdout",
     "output_type": "stream",
     "text": [
      "The original image is classified as one\n",
      "The adversarial image is classified as seven\n"
     ]
    },
    {
     "data": {
      "image/png": "[encoded data removed]",
      "text/plain": [
       "<Figure size 432x288 with 1 Axes>"
      ]
     },
     "metadata": {
      "needs_background": "light"
     },
     "output_type": "display_data"
    },
    {
     "name": "stdout",
     "output_type": "stream",
     "text": [
      "The original image is classified as four\n",
      "The adversarial image is classified as three\n"
     ]
    },
    {
     "data": {
      "image/png": "[encoded data removed]",
      "text/plain": [
       "<Figure size 432x288 with 1 Axes>"
      ]
     },
     "metadata": {
      "needs_background": "light"
     },
     "output_type": "display_data"
    },
    {
     "name": "stdout",
     "output_type": "stream",
     "text": [
      "The original image is classified as nine\n",
      "The adversarial image is classified as six\n"
     ]
    },
    {
     "data": {
      "image/png": "[encoded data removed]",
      "text/plain": [
       "<Figure size 432x288 with 1 Axes>"
      ]
     },
     "metadata": {
      "needs_background": "light"
     },
     "output_type": "display_data"
    },
    {
     "name": "stdout",
     "output_type": "stream",
     "text": [
      "The original image is classified as nine\n",
      "The adversarial image is classified as six\n"
     ]
    },
    {
     "data": {
      "image/png": "[encoded data removed]",
      "text/plain": [
       "<Figure size 432x288 with 1 Axes>"
      ]
     },
     "metadata": {
      "needs_background": "light"
     },
     "output_type": "display_data"
    },
    {
     "name": "stdout",
     "output_type": "stream",
     "text": [
      "The original image is classified as zero\n",
      "The adversarial image is classified as five\n"
     ]
    }
   ],
   "source": [
    "from mnist_attack import run_experiment\n",
    "\n",
    "# Run experiment using 576final heuristic\n",
    "run_experiment(substitute_model_loc='saved_models/mnist_substitute_model/576final', plot=True)"
   ]
  },
  {
   "cell_type": "code",
   "execution_count": null,
   "metadata": {},
   "outputs": [],
   "source": []
  }
 ],
 "metadata": {
  "kernelspec": {
   "display_name": "Python 3",
   "language": "python",
   "name": "python3"
  },
  "language_info": {
   "codemirror_mode": {
    "name": "ipython",
    "version": 3
   },
   "file_extension": ".py",
   "mimetype": "text/x-python",
   "name": "python",
   "nbconvert_exporter": "python",
   "pygments_lexer": "ipython3",
   "version": "3.6.9"
  }
 },
 "nbformat": 4,
 "nbformat_minor": 2
}
